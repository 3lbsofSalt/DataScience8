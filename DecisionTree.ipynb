{
 "cells": [
  {
   "cell_type": "code",
   "execution_count": null,
   "metadata": {},
   "outputs": [],
   "source": [
    "import pandas as pd\n",
    "import numpy as np\n",
    "\n",
    "from sklearn.tree import DecisionTreeClassifier\n",
    "from sklearn import tree\n",
    "from graphviz import Source\n",
    "from IPython.display import SVG"
   ]
  },
  {
   "cell_type": "code",
   "execution_count": null,
   "metadata": {},
   "outputs": [],
   "source": [
    "particles_train = pd.read_csv('data/training.csv')\n",
    "\n",
    "display(particles_train.head())\n",
    "display(particles_train.columns)\n",
    "display(particles_train[\"Label\"].unique())"
   ]
  },
  {
   "cell_type": "code",
   "execution_count": null,
   "metadata": {},
   "outputs": [],
   "source": [
    "feature_cols = [x for x in particles_train.columns if x != \"Label\"]\n",
    "feature_set = particles_train[feature_cols]\n",
    "labels = particles_train[\"Label\"]\n",
    "\n",
    "treeclf = DecisionTreeClassifier(max_depth=8, random_state=4)\n",
    "treeclf.fit(feature_set.values, labels)\n",
    "\n",
    "dot = tree.export_graphviz(treeclf, out_file=None,\n",
    "feature_names=feature_cols,\n",
    "class_names=[\"Muon\", \"Ghost\", \"Pion\", \"Proton\", \"Kaon\", \"Electron\"], filled=True)"
   ]
  },
  {
   "cell_type": "code",
   "execution_count": null,
   "metadata": {},
   "outputs": [],
   "source": [
    "graph = Source(dot)\n",
    "svg = SVG(graph.pipe(format='svg'))\n",
    "display(svg)"
   ]
  }
 ],
 "metadata": {
  "kernelspec": {
   "display_name": "Python 3",
   "language": "python",
   "name": "python3"
  },
  "language_info": {
   "codemirror_mode": {
    "name": "ipython",
    "version": 3
   },
   "file_extension": ".py",
   "mimetype": "text/x-python",
   "name": "python",
   "nbconvert_exporter": "python",
   "pygments_lexer": "ipython3",
   "version": "3.11.8"
  }
 },
 "nbformat": 4,
 "nbformat_minor": 2
}
