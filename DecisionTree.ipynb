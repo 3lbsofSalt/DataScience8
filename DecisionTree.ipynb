{
 "cells": [
  {
   "cell_type": "code",
   "execution_count": null,
   "metadata": {},
   "outputs": [],
   "source": [
    "import pandas as pd\n",
    "import numpy as np\n",
    "\n",
    "from sklearn.tree import DecisionTreeClassifier\n",
    "from sklearn import tree\n",
    "from graphviz import Source\n",
    "from IPython.display import SVG\n",
    "from sklearn.model_selection import train_test_split\n",
    "from sklearn.metrics import f1_score, precision_recall_fscore_support, confusion_matrix, ConfusionMatrixDisplay"
   ]
  },
  {
   "cell_type": "code",
   "execution_count": null,
   "metadata": {},
   "outputs": [],
   "source": [
    "particles_train = pd.read_csv('data/training.csv')\n",
    "\n",
    "display(particles_train.head())\n",
    "display(particles_train.columns)\n",
    "display(particles_train[\"Label\"].unique())"
   ]
  },
  {
   "cell_type": "code",
   "execution_count": null,
   "metadata": {},
   "outputs": [],
   "source": [
    "# Train Test Split\n",
    "\n",
    "feature_cols = [x for x in particles_train.columns if x != \"Label\"]\n",
    "feature_set = particles_train[feature_cols]\n",
    "labels = particles_train[\"Label\"]\n",
    "X_train, X_test, y_train, y_test = train_test_split(feature_set, labels, test_size=0.25, random_state=69)"
   ]
  },
  {
   "cell_type": "code",
   "execution_count": null,
   "metadata": {},
   "outputs": [],
   "source": [
    "\n",
    "for i in range(2, 3):\n",
    "    print(\"Creating Decision tree of depth\", i)\n",
    "    treeclf = DecisionTreeClassifier(max_depth=i, random_state=4)\n",
    "    treeclf.fit(X_train, y_train)\n",
    "\n",
    "    dot = tree.export_graphviz(treeclf, out_file=None,\n",
    "    feature_names=feature_cols,\n",
    "    class_names=[\"Muon\", \"Ghost\", \"Pion\", \"Proton\", \"Kaon\", \"Electron\"], filled=True)\n",
    "\n",
    "    y_pred = treeclf.predict(X_test)\n",
    "    p,r,f,s = precision_recall_fscore_support(y_test, y_pred)\n",
    "    print(p)\n",
    "    print(r)\n",
    "    print(f)\n",
    "    print(s)\n",
    "\n",
    "    cm = confusion_matrix(y_test, y_pred, labels=['Electron', 'Ghost', 'Pion', 'Muon', 'Kaon', 'Proton'])\n",
    "    display(ConfusionMatrixDisplay(cm, display_labels=['Electron', 'Ghost', 'Pion', 'Muon', 'Kaon', 'Proton']).plot())\n",
    "\n",
    "    graph = Source(dot)\n",
    "    svg = SVG(graph.pipe(format='svg'))\n",
    "    #display(svg)\n",
    "\n",
    "    graph = Source(dot, format=\"png\")\n",
    "    #graph.render(filename=\"depth\" + str(i), directory=\"./charts\", view=False)"
   ]
  }
 ],
 "metadata": {
  "kernelspec": {
   "display_name": "Python 3",
   "language": "python",
   "name": "python3"
  },
  "language_info": {
   "codemirror_mode": {
    "name": "ipython",
    "version": 3
   },
   "file_extension": ".py",
   "mimetype": "text/x-python",
   "name": "python",
   "nbconvert_exporter": "python",
   "pygments_lexer": "ipython3",
   "version": "3.10.11"
  }
 },
 "nbformat": 4,
 "nbformat_minor": 2
}
